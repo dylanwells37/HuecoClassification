{
 "cells": [
  {
   "cell_type": "code",
   "execution_count": 40,
   "metadata": {},
   "outputs": [],
   "source": [
    "import pandas as pd\n",
    "import numpy as np\n",
    "import pickle\n",
    "from pathlib import Path"
   ]
  },
  {
   "cell_type": "code",
   "execution_count": 41,
   "metadata": {},
   "outputs": [],
   "source": [
    "# Import the raw data pickle file and convert it to a dataframe\n",
    "cwd = Path.cwd()\n",
    "raw = pickle.load(open(cwd / '..' / 'raw_data' / 'moonGen_scrape_2016_final', 'rb'))\n",
    "df = pd.DataFrame(raw).T\n",
    "df = df.drop(['url', 'problem_type', 'is_master', 'setter', 'user_grade'], axis=1) # drop columns that are not needed"
   ]
  },
  {
   "cell_type": "code",
   "execution_count": 42,
   "metadata": {},
   "outputs": [],
   "source": [
    "# shuffle the dataframe\n",
    "df = df.sample(frac=1).reset_index(drop=True)\n",
    "# save the dataframe as a pickle file\n",
    "df.to_pickle(cwd / '..' / 'raw_data' / 'moonGen_scrape_2016_final_df')"
   ]
  }
 ],
 "metadata": {
  "kernelspec": {
   "display_name": "Python 3.9.13 ('base')",
   "language": "python",
   "name": "python3"
  },
  "language_info": {
   "codemirror_mode": {
    "name": "ipython",
    "version": 3
   },
   "file_extension": ".py",
   "mimetype": "text/x-python",
   "name": "python",
   "nbconvert_exporter": "python",
   "pygments_lexer": "ipython3",
   "version": "3.9.13"
  },
  "orig_nbformat": 4,
  "vscode": {
   "interpreter": {
    "hash": "2ffbebc7748f84c0fa5487430c40ce42e7b9cbcef69635c2b5c2a20317b069ad"
   }
  }
 },
 "nbformat": 4,
 "nbformat_minor": 2
}
