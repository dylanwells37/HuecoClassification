{
 "cells": [
  {
   "cell_type": "code",
   "execution_count": 1,
   "metadata": {},
   "outputs": [],
   "source": [
    "import pandas as pd\n",
    "import numpy as np\n",
    "import pickle\n",
    "from pathlib import Path"
   ]
  },
  {
   "cell_type": "code",
   "execution_count": 4,
   "metadata": {},
   "outputs": [
    {
     "data": {
      "text/html": [
       "<div>\n",
       "<style scoped>\n",
       "    .dataframe tbody tr th:only-of-type {\n",
       "        vertical-align: middle;\n",
       "    }\n",
       "\n",
       "    .dataframe tbody tr th {\n",
       "        vertical-align: top;\n",
       "    }\n",
       "\n",
       "    .dataframe thead th {\n",
       "        text-align: right;\n",
       "    }\n",
       "</style>\n",
       "<table border=\"1\" class=\"dataframe\">\n",
       "  <thead>\n",
       "    <tr style=\"text-align: right;\">\n",
       "      <th></th>\n",
       "      <th>start</th>\n",
       "      <th>mid</th>\n",
       "      <th>end</th>\n",
       "      <th>grade</th>\n",
       "      <th>is_benchmark</th>\n",
       "      <th>repeats</th>\n",
       "    </tr>\n",
       "  </thead>\n",
       "  <tbody>\n",
       "    <tr>\n",
       "      <th>367894</th>\n",
       "      <td>[[5, 4], [6, 1]]</td>\n",
       "      <td>[[7, 9], [1, 10], [4, 14], [4, 7]]</td>\n",
       "      <td>[[3, 17]]</td>\n",
       "      <td>6C+</td>\n",
       "      <td>False</td>\n",
       "      <td>0</td>\n",
       "    </tr>\n",
       "    <tr>\n",
       "      <th>367892</th>\n",
       "      <td>[[0, 4], [3, 5]]</td>\n",
       "      <td>[[4, 8], [0, 8], [2, 12], [3, 14]]</td>\n",
       "      <td>[[0, 17]]</td>\n",
       "      <td>6C</td>\n",
       "      <td>False</td>\n",
       "      <td>1</td>\n",
       "    </tr>\n",
       "    <tr>\n",
       "      <th>367889</th>\n",
       "      <td>[[6, 3]]</td>\n",
       "      <td>[[7, 7], [6, 9], [10, 11], [6, 14]]</td>\n",
       "      <td>[[10, 17]]</td>\n",
       "      <td>6C</td>\n",
       "      <td>False</td>\n",
       "      <td>0</td>\n",
       "    </tr>\n",
       "    <tr>\n",
       "      <th>367885</th>\n",
       "      <td>[[0, 4]]</td>\n",
       "      <td>[[1, 7], [3, 11], [5, 13]]</td>\n",
       "      <td>[[8, 17]]</td>\n",
       "      <td>7A</td>\n",
       "      <td>False</td>\n",
       "      <td>1</td>\n",
       "    </tr>\n",
       "    <tr>\n",
       "      <th>367880</th>\n",
       "      <td>[[5, 4], [8, 3]]</td>\n",
       "      <td>[[7, 7], [7, 9], [7, 12], [4, 14]]</td>\n",
       "      <td>[[6, 17]]</td>\n",
       "      <td>6B+</td>\n",
       "      <td>False</td>\n",
       "      <td>1</td>\n",
       "    </tr>\n",
       "  </tbody>\n",
       "</table>\n",
       "</div>"
      ],
      "text/plain": [
       "                   start                                  mid         end  \\\n",
       "367894  [[5, 4], [6, 1]]   [[7, 9], [1, 10], [4, 14], [4, 7]]   [[3, 17]]   \n",
       "367892  [[0, 4], [3, 5]]   [[4, 8], [0, 8], [2, 12], [3, 14]]   [[0, 17]]   \n",
       "367889          [[6, 3]]  [[7, 7], [6, 9], [10, 11], [6, 14]]  [[10, 17]]   \n",
       "367885          [[0, 4]]           [[1, 7], [3, 11], [5, 13]]   [[8, 17]]   \n",
       "367880  [[5, 4], [8, 3]]   [[7, 7], [7, 9], [7, 12], [4, 14]]   [[6, 17]]   \n",
       "\n",
       "       grade is_benchmark repeats  \n",
       "367894   6C+        False       0  \n",
       "367892    6C        False       1  \n",
       "367889    6C        False       0  \n",
       "367885    7A        False       1  \n",
       "367880   6B+        False       1  "
      ]
     },
     "execution_count": 4,
     "metadata": {},
     "output_type": "execute_result"
    }
   ],
   "source": [
    "# Import the raw data pickle file and convert it to a dataframe\n",
    "cwd = Path.cwd()\n",
    "raw = pickle.load(open(cwd / '..' / 'raw_data' / 'moonGen_scrape_2016_final', 'rb'))\n",
    "df = pd.DataFrame(raw).T\n",
    "df = df.drop(['url', 'problem_type', 'is_master', 'setter', 'user_grade'], axis=1) # drop columns that are not needed\n",
    "df.head()"
   ]
  },
  {
   "cell_type": "code",
   "execution_count": 25,
   "metadata": {},
   "outputs": [],
   "source": [
    "# We need to convert start, mid, and end lists to their own columns\n",
    "# loop through the raw data, and create a list of all the unique lists found\n",
    "hold_type = [\"start\", \"mid\", \"end\"]\n",
    "unique_holds = []\n",
    "for row in df[hold_type].iterrows():\n",
    "    for hold in hold_type:\n",
    "        for i in row[1][hold]:\n",
    "            if i not in unique_holds:\n",
    "                unique_holds.append(i)\n",
    "unique_holds.sort(key=lambda x: (x[0], x[1]))"
   ]
  },
  {
   "cell_type": "code",
   "execution_count": 26,
   "metadata": {},
   "outputs": [
    {
     "name": "stdout",
     "output_type": "stream",
     "text": [
      "Sorted unique holds:\n",
      "[[0, 4], [0, 5], [0, 8], [0, 9], [0, 10], [0, 11], [0, 12], [0, 13], [0, 14], [0, 15], [0, 17], [1, 2], [1, 3], [1, 5], [1, 6], [1, 7], [1, 8], [1, 9], [1, 10], [1, 11], [1, 12], [1, 14], [1, 15], [1, 17], [2, 4], [2, 5], [2, 6], [2, 7], [2, 8], [2, 9], [2, 10], [2, 11], [2, 12], [2, 13], [2, 14], [2, 15], [2, 17], [3, 2], [3, 4], [3, 5], [3, 6], [3, 7], [3, 8], [3, 9], [3, 10], [3, 11], [3, 12], [3, 13], [3, 14], [3, 15], [3, 16], [3, 17], [4, 5], [4, 6], [4, 7], [4, 8], [4, 9], [4, 10], [4, 11], [4, 12], [4, 13], [4, 14], [4, 15], [4, 17], [5, 4], [5, 5], [5, 6], [5, 7], [5, 8], [5, 9], [5, 10], [5, 11], [5, 12], [5, 13], [5, 14], [5, 15], [6, 1], [6, 3], [6, 5], [6, 6], [6, 7], [6, 8], [6, 9], [6, 10], [6, 11], [6, 12], [6, 13], [6, 14], [6, 15], [6, 16], [6, 17], [7, 4], [7, 6], [7, 7], [7, 8], [7, 9], [7, 10], [7, 11], [7, 12], [7, 13], [7, 14], [7, 15], [7, 17], [8, 3], [8, 4], [8, 5], [8, 6], [8, 7], [8, 8], [8, 9], [8, 10], [8, 11], [8, 12], [8, 13], [8, 14], [8, 15], [8, 17], [9, 1], [9, 4], [9, 5], [9, 6], [9, 7], [9, 8], [9, 9], [9, 10], [9, 11], [9, 12], [9, 13], [9, 15], [10, 4], [10, 5], [10, 6], [10, 7], [10, 8], [10, 9], [10, 10], [10, 11], [10, 12], [10, 13], [10, 15], [10, 17]]\n"
     ]
    }
   ],
   "source": [
    "print(\"Sorted unique holds:\")\n",
    "print(unique_holds)"
   ]
  },
  {
   "cell_type": "code",
   "execution_count": 27,
   "metadata": {},
   "outputs": [],
   "source": [
    "# we need to hash the [x,y] lists to a string, so we can use them as columns\n",
    "hold_cols = []\n",
    "for hold in unique_holds:\n",
    "    hold_cols.append(str(hold[0]) + \"_\" + str(hold[1]))"
   ]
  },
  {
   "cell_type": "code",
   "execution_count": 28,
   "metadata": {},
   "outputs": [],
   "source": [
    "# create a new dataframe, with the unique holds as columns using one hot encoding\n",
    "df_processed = pd.DataFrame(columns=hold_cols + [\"grade\", \"is_benchmark\", \"repeats\"])\n",
    "# loop through the raw data, and create a new row for each problem\n",
    "for row in df.iterrows():\n",
    "    for hold in hold_type:\n",
    "        for i in row[1][hold]:\n",
    "            hold_col = str(i[0]) + \"_\" + str(i[1])\n",
    "            df_processed.loc[row[0], hold_col] = 1\n",
    "    df_processed.loc[row[0], \"grade\"] = row[1][\"grade\"]\n",
    "    df_processed.loc[row[0], \"is_benchmark\"] = row[1][\"is_benchmark\"]\n",
    "    df_processed.loc[row[0], \"repeats\"] = row[1][\"repeats\"]\n",
    "# replace NaN values with 0\n",
    "df_processed = df_processed.fillna(0)\n",
    "    \n"
   ]
  },
  {
   "cell_type": "code",
   "execution_count": 33,
   "metadata": {},
   "outputs": [],
   "source": [
    "# shuffle the dataframe\n",
    "df_save = df_processed.sample(frac=1).reset_index(drop=True)\n",
    "# save the dataframe as a pickle file\n",
    "df_save.to_pickle(cwd / '..' / 'raw_data' / 'moonGen_scrape_2016_final_df')"
   ]
  },
  {
   "cell_type": "code",
   "execution_count": null,
   "metadata": {},
   "outputs": [],
   "source": []
  }
 ],
 "metadata": {
  "kernelspec": {
   "display_name": "Python 3.9.13 ('base')",
   "language": "python",
   "name": "python3"
  },
  "language_info": {
   "codemirror_mode": {
    "name": "ipython",
    "version": 3
   },
   "file_extension": ".py",
   "mimetype": "text/x-python",
   "name": "python",
   "nbconvert_exporter": "python",
   "pygments_lexer": "ipython3",
   "version": "3.9.13"
  },
  "orig_nbformat": 4,
  "vscode": {
   "interpreter": {
    "hash": "2ffbebc7748f84c0fa5487430c40ce42e7b9cbcef69635c2b5c2a20317b069ad"
   }
  }
 },
 "nbformat": 4,
 "nbformat_minor": 2
}
