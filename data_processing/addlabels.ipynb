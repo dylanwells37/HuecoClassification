{
 "cells": [
  {
   "cell_type": "code",
   "execution_count": 2,
   "metadata": {},
   "outputs": [],
   "source": [
    "import pandas as pd\n",
    "import numpy as np\n",
    "import pickle\n",
    "import sklearn\n",
    "import matplotlib.pyplot as plt\n",
    "\n",
    "from pathlib import Path"
   ]
  },
  {
   "cell_type": "code",
   "execution_count": 3,
   "metadata": {},
   "outputs": [],
   "source": [
    "# Convert the data to the Hueco V-scale\n",
    "def convertGrade(font_grade):\n",
    "    con_dict = {\n",
    "        '6B+': 4,\n",
    "        '6C': 5,\n",
    "        '6C+': 5,\n",
    "        '7A': 6,\n",
    "        '7A+': 7,\n",
    "        '7B': 8,\n",
    "        '7B+': 8,\n",
    "        '7C': 9,\n",
    "        '7C+': 10,\n",
    "        '8A': 11,\n",
    "        '8A+': 12,\n",
    "        '8B': 13,\n",
    "        '8B+': 14\n",
    "    }\n",
    "    return con_dict[font_grade]"
   ]
  },
  {
   "cell_type": "code",
   "execution_count": 8,
   "metadata": {},
   "outputs": [],
   "source": [
    "# Load data\n",
    "cwd = Path.cwd()\n",
    "moondf = pickle.load(open(cwd / '..' / 'raw_data' / 'moonGen_scrape_2016_final_df', 'rb'))\n",
    "moondf = moondf[moondf['grade'] != '6B'] # drop the 9 6B's"
   ]
  },
  {
   "cell_type": "code",
   "execution_count": 9,
   "metadata": {},
   "outputs": [],
   "source": [
    "# Convert all grades to V-scale\n",
    "moondf['grade'] = moondf['grade'].apply(convertGrade)\n",
    "moondf['is_benchmark'] = moondf['is_benchmark'].astype(int)\n",
    "#df_save.to_pickle(cwd / '..' / 'raw_data' / 'moonGen_scrape_2016_final_df')"
   ]
  },
  {
   "cell_type": "code",
   "execution_count": 12,
   "metadata": {},
   "outputs": [],
   "source": [
    "moondf.to_pickle(cwd / '..' / 'raw_data' / 'moonGen_scrape_2016_with_labels')"
   ]
  },
  {
   "cell_type": "code",
   "execution_count": null,
   "metadata": {},
   "outputs": [],
   "source": []
  }
 ],
 "metadata": {
  "kernelspec": {
   "display_name": "Python 3.9.13 ('base')",
   "language": "python",
   "name": "python3"
  },
  "language_info": {
   "codemirror_mode": {
    "name": "ipython",
    "version": 3
   },
   "file_extension": ".py",
   "mimetype": "text/x-python",
   "name": "python",
   "nbconvert_exporter": "python",
   "pygments_lexer": "ipython3",
   "version": "3.9.13"
  },
  "orig_nbformat": 4,
  "vscode": {
   "interpreter": {
    "hash": "2ffbebc7748f84c0fa5487430c40ce42e7b9cbcef69635c2b5c2a20317b069ad"
   }
  }
 },
 "nbformat": 4,
 "nbformat_minor": 2
}
