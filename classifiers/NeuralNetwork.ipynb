{
 "cells": [
  {
   "cell_type": "code",
   "execution_count": 1,
   "metadata": {},
   "outputs": [
    {
     "name": "stderr",
     "output_type": "stream",
     "text": [
      "2023-12-11 00:11:19.768997: I tensorflow/core/platform/cpu_feature_guard.cc:193] This TensorFlow binary is optimized with oneAPI Deep Neural Network Library (oneDNN) to use the following CPU instructions in performance-critical operations:  SSE4.1 SSE4.2\n",
      "To enable them in other operations, rebuild TensorFlow with the appropriate compiler flags.\n"
     ]
    }
   ],
   "source": [
    "import pandas as pd\n",
    "import numpy as np\n",
    "import pickle\n",
    "import sklearn\n",
    "import matplotlib.pyplot as plt\n",
    "from sklearn.model_selection import train_test_split\n",
    "from sklearn.metrics import confusion_matrix\n",
    "import keras\n",
    "\n",
    "from pathlib import Path"
   ]
  },
  {
   "cell_type": "code",
   "execution_count": 2,
   "metadata": {},
   "outputs": [],
   "source": [
    "# Load data\n",
    "cwd = Path.cwd()\n",
    "moondf = pickle.load(open(cwd / '..' / 'raw_data' / 'moonGen_scrape_2016_with_labels', 'rb'))\n",
    "# change the grade column from a number 4 - 14 to a list of 11 binary values\n",
    "moondf['grade'] = moondf['grade'].apply(lambda x: [1 if i == x else 0 for i in range(4, 15)])\n",
    "# one hot encode the grade column\n",
    "grade_cols = ['V_' + str(i) for i in range(4, 15)]\n",
    "moondf[grade_cols] = pd.DataFrame(moondf['grade'].to_list(), index=moondf.index)\n",
    "y = moondf[grade_cols].values\n",
    "X = moondf.drop(columns=grade_cols, axis=1)\n",
    "X = X.drop([\"is_benchmark\", \"repeats\", \"grade\"], axis=1).values"
   ]
  },
  {
   "cell_type": "code",
   "execution_count": 10,
   "metadata": {},
   "outputs": [
    {
     "name": "stdout",
     "output_type": "stream",
     "text": [
      "Epoch 1/100\n",
      "48/48 [==============================] - 1s 8ms/step - loss: 2.1247 - accuracy: 0.2243 - val_loss: 1.6520 - val_accuracy: 0.3241\n",
      "Epoch 2/100\n",
      "48/48 [==============================] - 0s 5ms/step - loss: 1.5138 - accuracy: 0.3332 - val_loss: 1.4840 - val_accuracy: 0.3243\n",
      "Epoch 3/100\n",
      "48/48 [==============================] - 0s 5ms/step - loss: 1.4377 - accuracy: 0.3352 - val_loss: 1.4476 - val_accuracy: 0.3300\n",
      "Epoch 4/100\n",
      "48/48 [==============================] - 0s 5ms/step - loss: 1.4017 - accuracy: 0.3447 - val_loss: 1.4202 - val_accuracy: 0.3388\n",
      "Epoch 5/100\n",
      "48/48 [==============================] - 0s 5ms/step - loss: 1.3656 - accuracy: 0.3709 - val_loss: 1.3821 - val_accuracy: 0.3844\n",
      "Epoch 6/100\n",
      "48/48 [==============================] - 0s 4ms/step - loss: 1.2905 - accuracy: 0.4578 - val_loss: 1.2852 - val_accuracy: 0.4751\n",
      "Epoch 7/100\n",
      "48/48 [==============================] - 0s 4ms/step - loss: 1.2138 - accuracy: 0.4876 - val_loss: 1.2598 - val_accuracy: 0.4880\n",
      "Epoch 8/100\n",
      "48/48 [==============================] - 0s 4ms/step - loss: 1.1762 - accuracy: 0.5009 - val_loss: 1.2689 - val_accuracy: 0.4838\n",
      "Epoch 9/100\n",
      "48/48 [==============================] - 0s 4ms/step - loss: 1.1525 - accuracy: 0.5106 - val_loss: 1.2585 - val_accuracy: 0.4940\n",
      "Epoch 10/100\n",
      "48/48 [==============================] - 0s 5ms/step - loss: 1.1286 - accuracy: 0.5196 - val_loss: 1.2617 - val_accuracy: 0.4944\n",
      "Epoch 11/100\n",
      "48/48 [==============================] - 0s 4ms/step - loss: 1.1116 - accuracy: 0.5260 - val_loss: 1.2748 - val_accuracy: 0.4950\n",
      "Epoch 12/100\n",
      "48/48 [==============================] - 0s 4ms/step - loss: 1.0883 - accuracy: 0.5402 - val_loss: 1.2876 - val_accuracy: 0.4896\n",
      "Epoch 13/100\n",
      "48/48 [==============================] - 0s 4ms/step - loss: 1.0676 - accuracy: 0.5455 - val_loss: 1.3099 - val_accuracy: 0.4913\n",
      "Epoch 14/100\n",
      "48/48 [==============================] - 0s 4ms/step - loss: 1.0461 - accuracy: 0.5569 - val_loss: 1.3311 - val_accuracy: 0.4836\n"
     ]
    }
   ],
   "source": [
    "\n",
    "# Now train a neutral network on the same data (using keras)\n",
    "from keras.models import Sequential\n",
    "from keras.layers import Dense\n",
    "from keras.layers import Input\n",
    "from keras.wrappers.scikit_learn import KerasRegressor\n",
    "from sklearn.preprocessing import StandardScaler\n",
    "\n",
    "X_train, X_test, y_train, y_test = train_test_split(X, y, test_size=0.20)\n",
    "\n",
    "\n",
    "# define base model\n",
    "def baseline_model():\n",
    "    # create model\n",
    "    model = Sequential()\n",
    "    model.add(Input(shape=(141,)))\n",
    "    model.add(Dense(128, kernel_initializer='normal', activation='relu'))\n",
    "    model.add(Dense(128, kernel_initializer='normal', activation='relu'))\n",
    "    model.add(Dense(64, kernel_initializer='normal', activation='relu'))\n",
    "    model.add(Dense(32, kernel_initializer='normal', activation='relu'))\n",
    "    model.add(Dense(16, kernel_initializer='normal', activation='relu'))\n",
    "    model.add(Dense(11, kernel_initializer='normal', activation='softmax'))\n",
    "    # Compile model\n",
    "    model.compile(optimizer='adam', loss='categorical_crossentropy', metrics=['accuracy'])\n",
    "    return model\n",
    "\n",
    "model = baseline_model()\n",
    "\n",
    "\n",
    "callbacks = [keras.callbacks.EarlyStopping(monitor='val_accuracy', patience=3),\n",
    "                keras.callbacks.ModelCheckpoint(filepath='best_model.h5', monitor='val_accuracy', save_best_only=True)]\n",
    "\n",
    "model.fit(X_train, y_train, epochs=100, batch_size=512, verbose=1,\n",
    "                            callbacks=callbacks, validation_data=(X_test, y_test))\n",
    "\n",
    "\n",
    "history = model.history\n"
   ]
  },
  {
   "cell_type": "code",
   "execution_count": null,
   "metadata": {},
   "outputs": [
    {
     "name": "stdout",
     "output_type": "stream",
     "text": [
      "192/192 [==============================] - 0s 903us/step\n",
      "Accuracy: 46.94%\n"
     ]
    },
    {
     "data": {
      "text/plain": [
       "Text(0.5, 1.0, 'Confusion Matrix for FCNN Classifier')"
      ]
     },
     "execution_count": 25,
     "metadata": {},
     "output_type": "execute_result"
    },
    {
     "data": {
      "image/png": "[encoded data removed]",
      "text/plain": [
       "<Figure size 800x800 with 1 Axes>"
      ]
     },
     "metadata": {},
     "output_type": "display_data"
    }
   ],
   "source": [
    "y_pred = model.predict(X_test)\n",
    "\n",
    "accuracy = sklearn.metrics.accuracy_score(y_test.argmax(axis=1), y_pred.argmax(axis=1))\n",
    "print(\"Accuracy: %.2f%%\" % (accuracy * 100.0))\n",
    "fig = plt.figure(figsize=(8, 8))\n",
    "plt.imshow(confusion_matrix(y_test.argmax(axis=1), y_pred.argmax(axis=1)))\n",
    "plt.xticks(np.arange(11), np.arange(4, 15))\n",
    "plt.yticks(np.arange(11), np.arange(4, 15))\n",
    "plt.xlabel('Predicted Grade')\n",
    "plt.ylabel('True Grade')\n",
    "plt.title('Confusion Matrix for FCNN Classifier')"
   ]
  },
  {
   "cell_type": "code",
   "execution_count": 26,
   "metadata": {},
   "outputs": [],
   "source": [
    "# Load data\n",
    "cwd = Path.cwd()\n",
    "moondf = pickle.load(open(cwd / '..' / 'raw_data' / 'moonGen_scrape_2016_with_labels', 'rb'))\n",
    "# change the grade column from a number 4 - 14 to a list of 11 binary values\n",
    "y_temp = moondf['grade'].values\n",
    "moondf['grade'] = moondf['grade'].apply(lambda x: [1 if i == x else 0 for i in range(4, 15)])\n",
    "# one hot encode the grade column\n",
    "grade_cols = ['V_' + str(i) for i in range(4, 15)]\n",
    "moondf[grade_cols] = pd.DataFrame(moondf['grade'].to_list(), index=moondf.index)\n",
    "y = moondf[grade_cols].values\n",
    "X = moondf.drop(columns=grade_cols, axis=1)\n",
    "X = X.drop([\"is_benchmark\", \"repeats\", \"grade\"], axis=1).values"
   ]
  },
  {
   "cell_type": "code",
   "execution_count": 27,
   "metadata": {},
   "outputs": [],
   "source": [
    "# get the 1500 of each grade for the training set\n",
    "X_train = np.zeros((0, 141))\n",
    "y_train = np.zeros((0, 11))\n",
    "X_rest = np.zeros((0, 141))\n",
    "y_rest = np.zeros((0, 11))\n",
    "sample_size = 2400\n",
    "for i in range(4, 15):\n",
    "    if len(X[y_temp == i])*0.8 < sample_size:\n",
    "        temp_size = int(len(X[y_temp == i]) * 0.8)\n",
    "    else:\n",
    "        temp_size = sample_size\n",
    "    X_train = np.concatenate((X_train, X[y_temp == i][:temp_size]))\n",
    "    y_train = np.concatenate((y_train, y[y_temp == i][:temp_size]))\n",
    "    # remove those from the X and y\n",
    "    X_rest = np.concatenate((X_rest, X[y_temp == i][temp_size:]))\n",
    "    y_rest = np.concatenate((y_rest, y[y_temp == i][temp_size:]))\n",
    "\n"
   ]
  },
  {
   "cell_type": "code",
   "execution_count": null,
   "metadata": {},
   "outputs": [],
   "source": []
  }
 ],
 "metadata": {
  "kernelspec": {
   "display_name": "Python 3.9.13 ('base')",
   "language": "python",
   "name": "python3"
  },
  "language_info": {
   "codemirror_mode": {
    "name": "ipython",
    "version": 3
   },
   "file_extension": ".py",
   "mimetype": "text/x-python",
   "name": "python",
   "nbconvert_exporter": "python",
   "pygments_lexer": "ipython3",
   "version": "3.9.13"
  },
  "orig_nbformat": 4,
  "vscode": {
   "interpreter": {
    "hash": "2ffbebc7748f84c0fa5487430c40ce42e7b9cbcef69635c2b5c2a20317b069ad"
   }
  }
 },
 "nbformat": 4,
 "nbformat_minor": 2
}
