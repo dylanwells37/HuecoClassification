{
 "cells": [
  {
   "cell_type": "code",
   "execution_count": 1,
   "metadata": {},
   "outputs": [
    {
     "name": "stderr",
     "output_type": "stream",
     "text": [
      "2023-12-12 11:52:45.823607: I tensorflow/core/platform/cpu_feature_guard.cc:193] This TensorFlow binary is optimized with oneAPI Deep Neural Network Library (oneDNN) to use the following CPU instructions in performance-critical operations:  SSE4.1 SSE4.2\n",
      "To enable them in other operations, rebuild TensorFlow with the appropriate compiler flags.\n"
     ]
    }
   ],
   "source": [
    "import pandas as pd\n",
    "import numpy as np\n",
    "import pickle\n",
    "import sklearn\n",
    "import matplotlib.pyplot as plt\n",
    "from sklearn.model_selection import train_test_split\n",
    "from sklearn.metrics import confusion_matrix\n",
    "import keras\n",
    "\n",
    "from pathlib import Path"
   ]
  },
  {
   "cell_type": "code",
   "execution_count": 2,
   "metadata": {},
   "outputs": [],
   "source": [
    "# Load data\n",
    "cwd = Path.cwd()\n",
    "moondf = pickle.load(open(cwd / '..' / 'raw_data' / 'moonGen_scrape_2016_with_labels', 'rb'))\n",
    "# change the grade column from a number 4 - 14 to a list of 11 binary values\n",
    "moondf['grade'] = moondf['grade'].apply(lambda x: [1 if i == x else 0 for i in range(4, 15)])\n",
    "# one hot encode the grade column\n",
    "grade_cols = ['V_' + str(i) for i in range(4, 15)]\n",
    "moondf[grade_cols] = pd.DataFrame(moondf['grade'].to_list(), index=moondf.index)\n",
    "y = moondf[grade_cols].values\n",
    "X = moondf.drop(columns=grade_cols, axis=1)\n",
    "X = X.drop([\"is_benchmark\", \"repeats\", \"grade\"], axis=1).values"
   ]
  },
  {
   "cell_type": "code",
   "execution_count": 3,
   "metadata": {},
   "outputs": [
    {
     "name": "stderr",
     "output_type": "stream",
     "text": [
      "2023-12-12 11:52:48.988603: I tensorflow/core/platform/cpu_feature_guard.cc:193] This TensorFlow binary is optimized with oneAPI Deep Neural Network Library (oneDNN) to use the following CPU instructions in performance-critical operations:  SSE4.1 SSE4.2\n",
      "To enable them in other operations, rebuild TensorFlow with the appropriate compiler flags.\n"
     ]
    },
    {
     "name": "stdout",
     "output_type": "stream",
     "text": [
      "Epoch 1/100\n",
      "48/48 [==============================] - 1s 8ms/step - loss: 2.0972 - accuracy: 0.3191 - val_loss: 1.6028 - val_accuracy: 0.2788\n",
      "Epoch 2/100\n",
      "48/48 [==============================] - 0s 5ms/step - loss: 1.5150 - accuracy: 0.3329 - val_loss: 1.4734 - val_accuracy: 0.3251\n",
      "Epoch 3/100\n",
      "48/48 [==============================] - 0s 5ms/step - loss: 1.4410 - accuracy: 0.3343 - val_loss: 1.4355 - val_accuracy: 0.3374\n",
      "Epoch 4/100\n",
      "48/48 [==============================] - 0s 5ms/step - loss: 1.4069 - accuracy: 0.3455 - val_loss: 1.4081 - val_accuracy: 0.3609\n",
      "Epoch 5/100\n",
      "48/48 [==============================] - 0s 4ms/step - loss: 1.3754 - accuracy: 0.3819 - val_loss: 1.3756 - val_accuracy: 0.3871\n",
      "Epoch 6/100\n",
      "48/48 [==============================] - 0s 4ms/step - loss: 1.3186 - accuracy: 0.4324 - val_loss: 1.3102 - val_accuracy: 0.4568\n",
      "Epoch 7/100\n",
      "48/48 [==============================] - 0s 5ms/step - loss: 1.2484 - accuracy: 0.4835 - val_loss: 1.2549 - val_accuracy: 0.4826\n",
      "Epoch 8/100\n",
      "48/48 [==============================] - 0s 5ms/step - loss: 1.2065 - accuracy: 0.4967 - val_loss: 1.2504 - val_accuracy: 0.4874\n",
      "Epoch 9/100\n",
      "48/48 [==============================] - 0s 4ms/step - loss: 1.1780 - accuracy: 0.5021 - val_loss: 1.2386 - val_accuracy: 0.4898\n",
      "Epoch 10/100\n",
      "48/48 [==============================] - 0s 4ms/step - loss: 1.1582 - accuracy: 0.5099 - val_loss: 1.2366 - val_accuracy: 0.4867\n",
      "Epoch 11/100\n",
      "48/48 [==============================] - 0s 4ms/step - loss: 1.1406 - accuracy: 0.5170 - val_loss: 1.2435 - val_accuracy: 0.4851\n",
      "Epoch 12/100\n",
      "48/48 [==============================] - 0s 4ms/step - loss: 1.1235 - accuracy: 0.5233 - val_loss: 1.2436 - val_accuracy: 0.4856\n"
     ]
    }
   ],
   "source": [
    "\n",
    "# Now train a neutral network on the same data (using keras)\n",
    "from keras.models import Sequential\n",
    "from keras.layers import Dense\n",
    "from keras.layers import Input\n",
    "from keras.wrappers.scikit_learn import KerasRegressor\n",
    "from sklearn.preprocessing import StandardScaler\n",
    "\n",
    "X_train, X_test, y_train, y_test = train_test_split(X, y, test_size=0.20)\n",
    "\n",
    "\n",
    "# define base model\n",
    "def baseline_model():\n",
    "    # create model\n",
    "    model = Sequential()\n",
    "    model.add(Input(shape=(141,)))\n",
    "    model.add(Dense(128, kernel_initializer='normal', activation='relu'))\n",
    "    model.add(Dense(128, kernel_initializer='normal', activation='relu'))\n",
    "    model.add(Dense(64, kernel_initializer='normal', activation='relu'))\n",
    "    model.add(Dense(32, kernel_initializer='normal', activation='relu'))\n",
    "    model.add(Dense(16, kernel_initializer='normal', activation='relu'))\n",
    "    model.add(Dense(11, kernel_initializer='normal', activation='softmax'))\n",
    "    # Compile model\n",
    "    model.compile(optimizer='adam', loss='categorical_crossentropy', metrics=['accuracy'])\n",
    "    return model\n",
    "\n",
    "model = baseline_model()\n",
    "\n",
    "\n",
    "callbacks = [keras.callbacks.EarlyStopping(monitor='val_accuracy', patience=3),\n",
    "                keras.callbacks.ModelCheckpoint(filepath='best_model.h5', monitor='val_accuracy', save_best_only=True)]\n",
    "\n",
    "model.fit(X_train, y_train, epochs=100, batch_size=512, verbose=1,\n",
    "                            callbacks=callbacks, validation_data=(X_test, y_test))\n",
    "\n",
    "\n",
    "history = model.history\n"
   ]
  },
  {
   "cell_type": "code",
   "execution_count": 5,
   "metadata": {},
   "outputs": [
    {
     "name": "stdout",
     "output_type": "stream",
     "text": [
      "192/192 [==============================] - 0s 946us/step\n",
      "Accuracy: 48.56%\n"
     ]
    },
    {
     "data": {
      "text/plain": [
       "Text(0.5, 1.0, 'Confusion Matrix for FCNN Classifier')"
      ]
     },
     "execution_count": 5,
     "metadata": {},
     "output_type": "execute_result"
    },
    {
     "data": {
      "image/png": "[encoded data removed]",
      "text/plain": [
       "<Figure size 800x800 with 1 Axes>"
      ]
     },
     "metadata": {},
     "output_type": "display_data"
    }
   ],
   "source": [
    "y_pred = model.predict(X_test)\n",
    "\n",
    "accuracy = sklearn.metrics.accuracy_score(y_test.argmax(axis=1), y_pred.argmax(axis=1))\n",
    "print(\"Accuracy: %.2f%%\" % (accuracy * 100.0))\n",
    "fig = plt.figure(figsize=(8, 8))\n",
    "#plt.imshow(confusion_matrix(y_test.argmax(axis=1), y_pred.argmax(axis=1)))\n",
    "cm = confusion_matrix(y_test.argmax(axis=1), y_pred.argmax(axis=1))\n",
    "cm = cm.astype('float') / cm.sum(axis=1)[:, np.newaxis]\n",
    "plt.imshow(cm)\n",
    "plt.xticks(np.arange(11), np.arange(4, 15))\n",
    "plt.yticks(np.arange(11), np.arange(4, 15))\n",
    "plt.xlabel('Predicted Grade')\n",
    "plt.ylabel('True Grade')\n",
    "plt.title('Confusion Matrix for FCNN Classifier')"
   ]
  },
  {
   "cell_type": "code",
   "execution_count": null,
   "metadata": {},
   "outputs": [],
   "source": []
  }
 ],
 "metadata": {
  "kernelspec": {
   "display_name": "Python 3.9.13 ('base')",
   "language": "python",
   "name": "python3"
  },
  "language_info": {
   "codemirror_mode": {
    "name": "ipython",
    "version": 3
   },
   "file_extension": ".py",
   "mimetype": "text/x-python",
   "name": "python",
   "nbconvert_exporter": "python",
   "pygments_lexer": "ipython3",
   "version": "3.9.13"
  },
  "orig_nbformat": 4,
  "vscode": {
   "interpreter": {
    "hash": "2ffbebc7748f84c0fa5487430c40ce42e7b9cbcef69635c2b5c2a20317b069ad"
   }
  }
 },
 "nbformat": 4,
 "nbformat_minor": 2
}
