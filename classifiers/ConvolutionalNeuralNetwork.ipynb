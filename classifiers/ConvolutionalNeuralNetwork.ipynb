{
 "cells": [
  {
   "cell_type": "code",
   "execution_count": 2,
   "metadata": {},
   "outputs": [],
   "source": [
    "import pandas as pd\n",
    "import numpy as np\n",
    "import pickle\n",
    "import sklearn\n",
    "import matplotlib.pyplot as plt\n",
    "from sklearn.model_selection import train_test_split\n",
    "from sklearn.metrics import confusion_matrix\n",
    "\n",
    "\n",
    "from pathlib import Path"
   ]
  },
  {
   "cell_type": "code",
   "execution_count": 3,
   "metadata": {},
   "outputs": [],
   "source": [
    "# Load data\n",
    "cwd = Path.cwd()\n",
    "moondf = pickle.load(open(cwd / '..' / 'raw_data' / 'moonGen_scrape_2016_with_labels', 'rb'))\n",
    "# change the grade column from a number 4 - 14 to a list of 11 binary values\n",
    "moondf['grade'] = moondf['grade'].apply(lambda x: [1 if i == x else 0 for i in range(4, 15)])\n",
    "# one hot encode the grade column\n",
    "grade_cols = ['V_' + str(i) for i in range(4, 15)]\n",
    "moondf[grade_cols] = pd.DataFrame(moondf['grade'].to_list(), index=moondf.index)\n",
    "y = moondf[grade_cols].values\n",
    "X = moondf.drop(columns=grade_cols, axis=1)\n",
    "X = X.drop([\"is_benchmark\", \"repeats\", \"grade\"], axis=1).values"
   ]
  },
  {
   "cell_type": "code",
   "execution_count": 9,
   "metadata": {},
   "outputs": [
    {
     "name": "stdout",
     "output_type": "stream",
     "text": [
      "Epoch 1/100\n"
     ]
    },
    {
     "name": "stderr",
     "output_type": "stream",
     "text": [
      "/var/folders/yv/3g8ggfl9341blgk0mn8sq6_c0000gn/T/ipykernel_65404/2624302047.py:35: DeprecationWarning: KerasClassifier is deprecated, use Sci-Keras (https://github.com/adriangb/scikeras) instead. See https://www.adriangb.com/scikeras/stable/migration.html for help migrating.\n",
      "  estimator = KerasClassifier(build_fn=cnn_model, epochs=100, batch_size=5, verbose=1, callbacks=callbacks,\n"
     ]
    },
    {
     "name": "stdout",
     "output_type": "stream",
     "text": [
      "4902/4902 [==============================] - 12s 2ms/step - loss: 1.6496 - accuracy: 0.3501 - val_loss: 1.5670 - val_accuracy: 0.3899\n",
      "Epoch 2/100\n",
      "4902/4902 [==============================] - 11s 2ms/step - loss: 1.5946 - accuracy: 0.3739 - val_loss: 1.5724 - val_accuracy: 0.3929\n",
      "Epoch 3/100\n",
      "4902/4902 [==============================] - 11s 2ms/step - loss: 1.5790 - accuracy: 0.3808 - val_loss: 1.5548 - val_accuracy: 0.3946\n",
      "Epoch 4/100\n",
      "4902/4902 [==============================] - 11s 2ms/step - loss: 1.5698 - accuracy: 0.3828 - val_loss: 1.5444 - val_accuracy: 0.3927\n",
      "Epoch 5/100\n",
      "4902/4902 [==============================] - 10s 2ms/step - loss: 1.5669 - accuracy: 0.3844 - val_loss: 1.5430 - val_accuracy: 0.3948\n",
      "Epoch 6/100\n",
      "4902/4902 [==============================] - 10s 2ms/step - loss: 1.5617 - accuracy: 0.3843 - val_loss: 1.5333 - val_accuracy: 0.3951\n",
      "Epoch 7/100\n",
      "4902/4902 [==============================] - 14s 3ms/step - loss: 1.5573 - accuracy: 0.3864 - val_loss: 1.5445 - val_accuracy: 0.4053\n",
      "Epoch 8/100\n",
      "4902/4902 [==============================] - 11s 2ms/step - loss: 1.5547 - accuracy: 0.3869 - val_loss: 1.5381 - val_accuracy: 0.3981\n",
      "Epoch 9/100\n",
      "4902/4902 [==============================] - 11s 2ms/step - loss: 1.5528 - accuracy: 0.3894 - val_loss: 1.5331 - val_accuracy: 0.3989\n",
      "Epoch 10/100\n",
      "4902/4902 [==============================] - 12s 2ms/step - loss: 1.5478 - accuracy: 0.3853 - val_loss: 1.5268 - val_accuracy: 0.3912\n",
      "Epoch 11/100\n",
      "4902/4902 [==============================] - 11s 2ms/step - loss: 1.5452 - accuracy: 0.3888 - val_loss: 1.5370 - val_accuracy: 0.4066\n",
      "Epoch 12/100\n",
      "4902/4902 [==============================] - 10s 2ms/step - loss: 1.5420 - accuracy: 0.3893 - val_loss: 1.5258 - val_accuracy: 0.4017\n",
      "Epoch 13/100\n",
      "4902/4902 [==============================] - 10s 2ms/step - loss: 1.5402 - accuracy: 0.3872 - val_loss: 1.5348 - val_accuracy: 0.3951\n",
      "Epoch 14/100\n",
      "4902/4902 [==============================] - 11s 2ms/step - loss: 1.5374 - accuracy: 0.3901 - val_loss: 1.5189 - val_accuracy: 0.4035\n",
      "Epoch 15/100\n",
      "4902/4902 [==============================] - 10s 2ms/step - loss: 1.5383 - accuracy: 0.3905 - val_loss: 1.5309 - val_accuracy: 0.4023\n",
      "Epoch 16/100\n",
      "4902/4902 [==============================] - 11s 2ms/step - loss: 1.5354 - accuracy: 0.3910 - val_loss: 1.5232 - val_accuracy: 0.4025\n",
      "Epoch 17/100\n",
      "4902/4902 [==============================] - 11s 2ms/step - loss: 1.5336 - accuracy: 0.3945 - val_loss: 1.5247 - val_accuracy: 0.4041\n",
      "192/192 [==============================] - 1s 3ms/step\n"
     ]
    }
   ],
   "source": [
    "# Now try a convolutional neural network\n",
    "# Now train a neutral network on the same data (using keras)\n",
    "from keras.models import Sequential\n",
    "from keras.layers import Dense\n",
    "from keras.layers import Input\n",
    "from keras.wrappers.scikit_learn import KerasClassifier\n",
    "from sklearn.preprocessing import StandardScaler\n",
    "from keras.layers import Conv1D, MaxPooling1D, Flatten, GlobalAveragePooling1D, Dropout\n",
    "from tensorflow import keras\n",
    "\n",
    "X_train, X_test, y_train, y_test = train_test_split(X, y, test_size=0.20)\n",
    "\n",
    "def cnn_model():\n",
    "    # create a convolutional neural network model\n",
    "    model = Sequential()\n",
    "    model.add(Conv1D(32, 3, activation='relu', input_shape=(141, 1)))\n",
    "    model.add(Conv1D(32, 3, activation='relu'))\n",
    "    model.add(MaxPooling1D(3))\n",
    "    model.add(Conv1D(64, 3, activation='relu'))\n",
    "    model.add(Conv1D(64, 3, activation='relu'))\n",
    "    model.add(GlobalAveragePooling1D())\n",
    "    model.add(Dropout(0.5))\n",
    "    model.add(Dense(11, activation='sigmoid'))\n",
    "    model.compile(optimizer='adam', loss='categorical_crossentropy', metrics=['accuracy'])\n",
    "    return model\n",
    "\n",
    "# fix random seed for reproducibility\n",
    "seed = 7\n",
    "np.random.seed(seed)\n",
    "\n",
    "callbacks = [keras.callbacks.EarlyStopping(monitor='val_loss', patience=3),\n",
    "             keras.callbacks.ModelCheckpoint(filepath='best_model.h5', monitor='val_loss', save_best_only=True)]\n",
    "\n",
    "# evaluate model with standardized dataset\n",
    "estimator = KerasClassifier(build_fn=cnn_model, epochs=100, batch_size=5, verbose=1, callbacks=callbacks,\n",
    "                            validation_data=(X_test, y_test))\n",
    "\n",
    "estimator.fit(X_train, y_train)\n",
    "\n",
    "y_pred = estimator.predict(X_test)"
   ]
  },
  {
   "cell_type": "code",
   "execution_count": 13,
   "metadata": {},
   "outputs": [
    {
     "name": "stdout",
     "output_type": "stream",
     "text": [
      "192/192 [==============================] - 1s 3ms/step\n"
     ]
    }
   ],
   "source": [
    "best_model = keras.models.load_model('best_model.h5')\n",
    "y_pred = best_model.predict(X_test)"
   ]
  },
  {
   "cell_type": "code",
   "execution_count": 14,
   "metadata": {},
   "outputs": [
    {
     "name": "stdout",
     "output_type": "stream",
     "text": [
      "Accuracy: 40.35%\n"
     ]
    }
   ],
   "source": [
    "accuracy = np.mean(np.argmax(y_pred, axis=1) == np.argmax(y_test, axis=1))\n",
    "print(\"Accuracy: %.2f%%\" % (accuracy * 100.0))"
   ]
  },
  {
   "cell_type": "code",
   "execution_count": 17,
   "metadata": {},
   "outputs": [
    {
     "data": {
      "text/plain": [
       "Text(0.5, 1.0, 'Confusion Matrix for Random Forest Classifier')"
      ]
     },
     "execution_count": 17,
     "metadata": {},
     "output_type": "execute_result"
    },
    {
     "data": {
      "image/png": "[encoded data removed]",
      "text/plain": [
       "<Figure size 800x800 with 1 Axes>"
      ]
     },
     "metadata": {},
     "output_type": "display_data"
    }
   ],
   "source": [
    "fig = plt.figure(figsize=(8, 8))\n",
    "plt.imshow(confusion_matrix(np.argmax(y_test, axis=1), np.argmax(y_pred, axis=1)))\n",
    "plt.xticks(np.arange(11), np.arange(4, 15))\n",
    "plt.yticks(np.arange(11), np.arange(4, 15))\n",
    "plt.xlabel('Predicted Grade')\n",
    "plt.ylabel('True Grade')\n",
    "plt.title('Confusion Matrix for CNN Classifier')"
   ]
  },
  {
   "cell_type": "code",
   "execution_count": null,
   "metadata": {},
   "outputs": [],
   "source": []
  }
 ],
 "metadata": {
  "kernelspec": {
   "display_name": "Python 3.9.13 ('base')",
   "language": "python",
   "name": "python3"
  },
  "language_info": {
   "codemirror_mode": {
    "name": "ipython",
    "version": 3
   },
   "file_extension": ".py",
   "mimetype": "text/x-python",
   "name": "python",
   "nbconvert_exporter": "python",
   "pygments_lexer": "ipython3",
   "version": "3.9.13"
  },
  "orig_nbformat": 4,
  "vscode": {
   "interpreter": {
    "hash": "2ffbebc7748f84c0fa5487430c40ce42e7b9cbcef69635c2b5c2a20317b069ad"
   }
  }
 },
 "nbformat": 4,
 "nbformat_minor": 2
}
