{
 "cells": [
  {
   "cell_type": "code",
   "execution_count": 1,
   "metadata": {},
   "outputs": [],
   "source": [
    "import pandas as pd\n",
    "import numpy as np\n",
    "import pickle\n",
    "import sklearn\n",
    "\n",
    "from pathlib import Path"
   ]
  },
  {
   "cell_type": "code",
   "execution_count": 2,
   "metadata": {},
   "outputs": [],
   "source": [
    "# Load data\n",
    "cwd = Path.cwd()\n",
    "moondf = pickle.load(open(cwd / '..' / 'raw_data' / 'moonGen_scrape_2016_final_df', 'rb'))"
   ]
  },
  {
   "cell_type": "code",
   "execution_count": 3,
   "metadata": {},
   "outputs": [
    {
     "name": "stdout",
     "output_type": "stream",
     "text": [
      "   0_4  0_5  0_8  0_9  0_10  0_11  0_12  0_13  0_14  0_15  ...  10_9  10_10  \\\n",
      "0    0    0    0    0     0     0     0     0     0     0  ...     0      0   \n",
      "1    0    0    0    0     0     0     0     0     1     0  ...     0      0   \n",
      "2    0    0    0    0     0     0     0     0     0     0  ...     0      0   \n",
      "3    0    0    0    0     0     0     0     0     0     0  ...     0      0   \n",
      "4    0    0    0    0     0     0     0     0     0     0  ...     0      0   \n",
      "\n",
      "   10_11  10_12  10_13  10_15  10_17  grade  is_benchmark  repeats  \n",
      "0      0      0      0      0      0     6C         False        1  \n",
      "1      0      0      0      0      1     7A         False        0  \n",
      "2      0      0      0      0      0    6B+         False       14  \n",
      "3      0      0      0      0      0     6C         False       18  \n",
      "4      0      0      0      0      0    6B+         False      125  \n",
      "\n",
      "[5 rows x 144 columns]\n"
     ]
    }
   ],
   "source": [
    "print(moondf.head())"
   ]
  },
  {
   "cell_type": "code",
   "execution_count": null,
   "metadata": {},
   "outputs": [],
   "source": []
  }
 ],
 "metadata": {
  "kernelspec": {
   "display_name": "Python 3 (ipykernel)",
   "language": "python",
   "name": "python3"
  },
  "language_info": {
   "codemirror_mode": {
    "name": "ipython",
    "version": 3
   },
   "file_extension": ".py",
   "mimetype": "text/x-python",
   "name": "python",
   "nbconvert_exporter": "python",
   "pygments_lexer": "ipython3",
   "version": "3.9.13"
  },
  "vscode": {
   "interpreter": {
    "hash": "2ffbebc7748f84c0fa5487430c40ce42e7b9cbcef69635c2b5c2a20317b069ad"
   }
  }
 },
 "nbformat": 4,
 "nbformat_minor": 2
}
