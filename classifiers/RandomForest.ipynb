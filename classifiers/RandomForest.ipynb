{
 "cells": [
  {
   "cell_type": "code",
   "execution_count": 55,
   "metadata": {},
   "outputs": [],
   "source": [
    "import pandas as pd\n",
    "import numpy as np\n",
    "import pickle\n",
    "import sklearn\n",
    "import matplotlib.pyplot as plt\n",
    "from sklearn.ensemble import RandomForestClassifier\n",
    "from sklearn.model_selection import train_test_split\n",
    "from sklearn.metrics import confusion_matrix\n",
    "\n",
    "\n",
    "from pathlib import Path"
   ]
  },
  {
   "cell_type": "code",
   "execution_count": 3,
   "metadata": {},
   "outputs": [],
   "source": [
    "# Load data\n",
    "cwd = Path.cwd()\n",
    "moondf = pickle.load(open(cwd / '..' / 'raw_data' / 'moonGen_scrape_2016_with_labels', 'rb'))"
   ]
  },
  {
   "cell_type": "code",
   "execution_count": 32,
   "metadata": {},
   "outputs": [
    {
     "name": "stdout",
     "output_type": "stream",
     "text": [
      "4    10153\n",
      "5     8453\n",
      "6     4045\n",
      "8     3173\n",
      "7     3074\n",
      "Name: grade, dtype: int64\n"
     ]
    }
   ],
   "source": [
    "cutoff = 9\n",
    "usedf = moondf[moondf[\"grade\"] < cutoff]\n",
    "\n",
    "X = usedf.drop(['grade'], axis=1).values\n",
    "y = usedf['grade'].values\n",
    "print(usedf['grade'].value_counts())"
   ]
  },
  {
   "cell_type": "code",
   "execution_count": 33,
   "metadata": {},
   "outputs": [
    {
     "name": "stdout",
     "output_type": "stream",
     "text": [
      "Accuracy: 0.494636678200692\n"
     ]
    }
   ],
   "source": [
    "X_train, X_test, y_train, y_test = train_test_split(X, y, test_size=0.2)\n",
    "\n",
    "clf = RandomForestClassifier(n_estimators=500, max_depth=1000, random_state=42)\n",
    "\n",
    "clf.fit(X_train, y_train)\n",
    "\n",
    "y_pred = clf.predict(X_test)\n",
    "\n",
    "print(f\"Accuracy: {sklearn.metrics.accuracy_score(y_test, y_pred)}\")"
   ]
  },
  {
   "cell_type": "code",
   "execution_count": 39,
   "metadata": {},
   "outputs": [
    {
     "name": "stdout",
     "output_type": "stream",
     "text": [
      "      4    5   6   7    8\n",
      "4  1480  526  35  16   21\n",
      "5   538  930  91  54   69\n",
      "6    83  488  88  76   83\n",
      "7    41  249  59  95  149\n",
      "8    21  178  71  73  266\n"
     ]
    }
   ],
   "source": [
    "# print the confusion matrix\n",
    "print(pd.DataFrame(confusion_matrix(y_test, y_pred), index=clf.classes_, columns=clf.classes_))"
   ]
  },
  {
   "cell_type": "code",
   "execution_count": 56,
   "metadata": {},
   "outputs": [
    {
     "data": {
      "text/plain": [
       "<matplotlib.image.AxesImage at 0x7f94109bbfa0>"
      ]
     },
     "execution_count": 56,
     "metadata": {},
     "output_type": "execute_result"
    },
    {
     "data": {
      "image/png": "[encoded data removed]",
      "text/plain": [
       "<Figure size 640x480 with 1 Axes>"
      ]
     },
     "metadata": {},
     "output_type": "display_data"
    }
   ],
   "source": [
    "# Plot the feature importance\n",
    "unique_holds = pickle.load(open(cwd / '..' / 'raw_data' / 'unique_holds', 'rb'))\n",
    "importances = clf.feature_importances_\n",
    "\n",
    "#vmap = np.zeros((11, 18))\n",
    "#gradedf = df[df['grade'] == grade]\n",
    "#for hold in unique_holds:\n",
    "#    vmap[hold[0], hold[1]] = gradedf[f'{hold[0]}_{hold[1]}'].sum()\n",
    "#plt.title(f'Hold Heatmap for V{grade}')\n",
    "#plt.imshow(vmap.T[::-1], cmap='hot', interpolation='none')\n",
    "\n",
    "importance_map = np.zeros((11, 18))\n",
    "for i in range(len(unique_holds)):\n",
    "    hold = unique_holds[i]\n",
    "    importance_map[hold[0], hold[1]] = importances[i]\n",
    "    \n",
    "plt.title('Hold Importance Heatmap')\n",
    "plt.imshow(importance_map.T[::-1], cmap='hot', interpolation='none')\n"
   ]
  },
  {
   "cell_type": "code",
   "execution_count": null,
   "metadata": {},
   "outputs": [],
   "source": []
  }
 ],
 "metadata": {
  "kernelspec": {
   "display_name": "Python 3 (ipykernel)",
   "language": "python",
   "name": "python3"
  },
  "language_info": {
   "codemirror_mode": {
    "name": "ipython",
    "version": 3
   },
   "file_extension": ".py",
   "mimetype": "text/x-python",
   "name": "python",
   "nbconvert_exporter": "python",
   "pygments_lexer": "ipython3",
   "version": "3.9.13"
  },
  "vscode": {
   "interpreter": {
    "hash": "2ffbebc7748f84c0fa5487430c40ce42e7b9cbcef69635c2b5c2a20317b069ad"
   }
  }
 },
 "nbformat": 4,
 "nbformat_minor": 2
}
