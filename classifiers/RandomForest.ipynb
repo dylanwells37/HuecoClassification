{
 "cells": [
  {
   "cell_type": "code",
   "execution_count": 2,
   "metadata": {},
   "outputs": [],
   "source": [
    "import pandas as pd\n",
    "import numpy as np\n",
    "import pickle\n",
    "import sklearn\n",
    "import matplotlib.pyplot as plt\n",
    "from sklearn.ensemble import RandomForestClassifier\n",
    "from sklearn.model_selection import train_test_split\n",
    "from sklearn.metrics import confusion_matrix\n",
    "\n",
    "\n",
    "from pathlib import Path"
   ]
  },
  {
   "cell_type": "code",
   "execution_count": 3,
   "metadata": {},
   "outputs": [],
   "source": [
    "# Load data\n",
    "cwd = Path.cwd()\n",
    "moondf = pickle.load(open(cwd / '..' / 'raw_data' / 'moonGen_scrape_2016_with_labels', 'rb'))"
   ]
  },
  {
   "cell_type": "code",
   "execution_count": 4,
   "metadata": {},
   "outputs": [
    {
     "name": "stdout",
     "output_type": "stream",
     "text": [
      "4     10153\n",
      "5      8453\n",
      "6      4045\n",
      "8      3173\n",
      "7      3074\n",
      "9      1061\n",
      "10      389\n",
      "11      181\n",
      "12       51\n",
      "13       29\n",
      "14       24\n",
      "Name: grade, dtype: int64    0_4  0_5  0_8  0_9  0_10  0_11  0_12  0_13  0_14  0_15  ...  10_7  10_8  \\\n",
      "0    0    0    0    0     0     0     0     0     0     0  ...     0     0   \n",
      "1    0    0    0    0     0     0     0     0     1     0  ...     0     0   \n",
      "2    0    0    0    0     0     0     0     0     0     0  ...     0     0   \n",
      "3    0    0    0    0     0     0     0     0     0     0  ...     0     0   \n",
      "4    0    0    0    0     0     0     0     0     0     0  ...     0     0   \n",
      "\n",
      "   10_9  10_10  10_11  10_12  10_13  10_15  10_17  grade  \n",
      "0     0      0      0      0      0      0      0      5  \n",
      "1     0      0      0      0      0      0      1      6  \n",
      "2     0      0      0      0      0      0      0      4  \n",
      "3     0      0      0      0      0      0      0      5  \n",
      "4     0      0      0      0      0      0      0      4  \n",
      "\n",
      "[5 rows x 142 columns]\n"
     ]
    }
   ],
   "source": [
    "cutoff = 15\n",
    "#usedf = moondf[moondf[\"grade\"] < cutoff]\n",
    "usedf = moondf.drop([\"is_benchmark\", \"repeats\"], axis=1)\n",
    "\n",
    "X = usedf.drop(['grade'], axis=1).values\n",
    "y = usedf['grade'].values\n",
    "print(usedf['grade'].value_counts(), usedf.head())"
   ]
  },
  {
   "cell_type": "code",
   "execution_count": 5,
   "metadata": {},
   "outputs": [
    {
     "name": "stdout",
     "output_type": "stream",
     "text": [
      "Accuracy: 0.47886404439366737\n"
     ]
    }
   ],
   "source": [
    "X_train, X_test, y_train, y_test = train_test_split(X, y, test_size=0.20)\n",
    "\n",
    "clf = RandomForestClassifier(n_estimators=500, max_depth=1000, random_state=42)\n",
    "\n",
    "clf.fit(X_train, y_train)\n",
    "\n",
    "y_pred = clf.predict(X_test)\n",
    "\n",
    "print(f\"Accuracy: {sklearn.metrics.accuracy_score(y_test, y_pred)}\")"
   ]
  },
  {
   "cell_type": "code",
   "execution_count": 6,
   "metadata": {
    "scrolled": true
   },
   "outputs": [
    {
     "name": "stdout",
     "output_type": "stream",
     "text": [
      "      4    5    6    7    8   9   10  11  12  13  14\n",
      "4   1507  501   34   22   25   2   0   1   1   0   0\n",
      "5    522  937  118   56   64   1   0   0   0   0   0\n",
      "6     77  403  108   77  124   3   1   0   0   0   0\n",
      "7     39  211   74  105  133   5   0   0   0   0   0\n",
      "8     16  192   68   81  252   8   1   3   0   0   0\n",
      "9      2   34   15   22  127  18   4   0   0   0   0\n",
      "10     2   12    1    2   42  10   4   0   0   0   0\n",
      "11     0    3    1    6   22   1   0   2   0   0   0\n",
      "12     0    1    0    1    9   1   0   0   1   0   0\n",
      "13     0    0    0    0    4   0   0   0   0   0   0\n",
      "14     1    1    1    0    5   0   0   0   0   0   0\n"
     ]
    }
   ],
   "source": [
    "# print the confusion matrix\n",
    "print(pd.DataFrame(confusion_matrix(y_test, y_pred), index=clf.classes_, columns=clf.classes_))"
   ]
  },
  {
   "cell_type": "code",
   "execution_count": 7,
   "metadata": {},
   "outputs": [
    {
     "data": {
      "text/plain": [
       "<matplotlib.image.AxesImage at 0x7fbcc8a85e20>"
      ]
     },
     "execution_count": 7,
     "metadata": {},
     "output_type": "execute_result"
    },
    {
     "data": {
      "image/png": "[encoded data removed]",
      "text/plain": [
       "<Figure size 640x480 with 1 Axes>"
      ]
     },
     "metadata": {},
     "output_type": "display_data"
    }
   ],
   "source": [
    "# Plot the feature importance\n",
    "unique_holds = pickle.load(open(cwd / '..' / 'raw_data' / 'unique_holds', 'rb'))\n",
    "importances = clf.feature_importances_\n",
    "\n",
    "importance_map = np.zeros((11, 18))\n",
    "for i in range(len(unique_holds)):\n",
    "    hold = unique_holds[i]\n",
    "    importance_map[hold[0], hold[1]] = importances[i]\n",
    "    \n",
    "plt.title('Hold Importance Heatmap')\n",
    "plt.imshow(importance_map.T[::-1], cmap='hot', interpolation='none')\n",
    "\n",
    "#\n"
   ]
  },
  {
   "cell_type": "code",
   "execution_count": null,
   "metadata": {},
   "outputs": [],
   "source": []
  },
  {
   "cell_type": "code",
   "execution_count": null,
   "metadata": {},
   "outputs": [],
   "source": []
  }
 ],
 "metadata": {
  "kernelspec": {
   "display_name": "Python 3 (ipykernel)",
   "language": "python",
   "name": "python3"
  },
  "language_info": {
   "codemirror_mode": {
    "name": "ipython",
    "version": 3
   },
   "file_extension": ".py",
   "mimetype": "text/x-python",
   "name": "python",
   "nbconvert_exporter": "python",
   "pygments_lexer": "ipython3",
   "version": "3.9.13"
  },
  "vscode": {
   "interpreter": {
    "hash": "2ffbebc7748f84c0fa5487430c40ce42e7b9cbcef69635c2b5c2a20317b069ad"
   }
  }
 },
 "nbformat": 4,
 "nbformat_minor": 2
}
